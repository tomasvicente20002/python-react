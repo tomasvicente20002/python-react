{
 "cells": [
  {
   "cell_type": "markdown",
   "id": "a828c3bc",
   "metadata": {},
   "source": [
    "# 🧪 Simulado Técnico - Estilo Collectly\n",
    "\n",
    "Este notebook contém 5 perguntas técnicas baseadas em entrevistas reais feitas na empresa Collectly. Serve para treinar leitura de código complexo, compreensão de decorators e desempenho em Python."
   ]
  },
  {
   "cell_type": "markdown",
   "id": "d92db2ad",
   "metadata": {},
   "source": [
    "## ✅ Pergunta 1 – Output de Código Decorado"
   ]
  },
  {
   "cell_type": "code",
   "execution_count": null,
   "id": "21e925d7",
   "metadata": {},
   "outputs": [],
   "source": [
    "def outer(msg):\n",
    "    def decorator(func):\n",
    "        def wrapper(*args, **kwargs):\n",
    "            print(f\"Outer: {msg}\")\n",
    "            return func(*args, **kwargs)\n",
    "        return wrapper\n",
    "    return decorator\n",
    "\n",
    "@outer(\"Olá\")\n",
    "def greet():\n",
    "    print(\"Olá Mundo!\")\n",
    "\n",
    "greet()"
   ]
  },
  {
   "cell_type": "markdown",
   "id": "2081d276",
   "metadata": {},
   "source": [
    "**Qual será a saída?**\n",
    "\n",
    "A) Olá Mundo!  \n",
    "B) Outer: Olá  \n",
    "C) Outer: Olá → Olá Mundo!  \n",
    "D) O código dá erro."
   ]
  },
  {
   "cell_type": "markdown",
   "id": "510e881e",
   "metadata": {},
   "source": [
    "## ✅ Pergunta 2 – Lambda e Avaliação de Expressões"
   ]
  },
  {
   "cell_type": "code",
   "execution_count": null,
   "id": "b6be3733",
   "metadata": {},
   "outputs": [],
   "source": [
    "x = [(lambda a: a ** 2)(i) for i in range(3)]\n",
    "print(x)"
   ]
  },
  {
   "cell_type": "markdown",
   "id": "0b8c8e02",
   "metadata": {},
   "source": [
    "**Resultado esperado:**\n",
    "\n",
    "A) [1, 2, 3]  \n",
    "B) [0, 1, 4]  \n",
    "C) [0, 1, 2, 3]  \n",
    "D) Erro de execução"
   ]
  },
  {
   "cell_type": "markdown",
   "id": "9b75b028",
   "metadata": {},
   "source": [
    "## ✅ Pergunta 3 – Desempenho Relativo"
   ]
  },
  {
   "cell_type": "code",
   "execution_count": null,
   "id": "cb4c6965",
   "metadata": {},
   "outputs": [],
   "source": [
    "# A\n",
    "sum([i for i in range(1000)])\n",
    "\n",
    "# B\n",
    "total = 0\n",
    "for i in range(1000):\n",
    "    total += i\n",
    "\n",
    "# C\n",
    "import numpy as np\n",
    "np.sum(np.arange(1000))\n",
    "\n",
    "# D\n",
    "sum((i for i in range(1000)))"
   ]
  },
  {
   "cell_type": "markdown",
   "id": "4133e165",
   "metadata": {},
   "source": [
    "**Seleciona a opção que representa a ordem esperada de desempenho (mais rápido → mais lento):**\n",
    "\n",
    "A) C, D, A, B  \n",
    "B) D, A, B, C  \n",
    "C) B, A, D, C  \n",
    "D) C, A, D, B"
   ]
  },
  {
   "cell_type": "markdown",
   "id": "2ded3f9f",
   "metadata": {},
   "source": [
    "## ✅ Pergunta 4 – Problema com Restrição Arbitrária"
   ]
  },
  {
   "cell_type": "code",
   "execution_count": null,
   "id": "b65f9351",
   "metadata": {},
   "outputs": [],
   "source": [
    "# Encontra o segundo maior número numa lista SEM usar sort()\n",
    "def second_largest(nums):\n",
    "    pass  # Preenche aqui"
   ]
  },
  {
   "cell_type": "markdown",
   "id": "3e393d6d",
   "metadata": {},
   "source": [
    "**Qual é a melhor abordagem para evitar sort()?**\n",
    "\n",
    "A) Usar `max` duas vezes  \n",
    "B) Ordenar com `.sort()`  \n",
    "C) Usar heapq  \n",
    "D) Converter para set e usar slicing"
   ]
  },
  {
   "cell_type": "markdown",
   "id": "2983047c",
   "metadata": {},
   "source": [
    "## ✅ Pergunta 5 – Decorators Aninhados (Difícil)"
   ]
  },
  {
   "cell_type": "code",
   "execution_count": null,
   "id": "ce520c1a",
   "metadata": {},
   "outputs": [],
   "source": [
    "def bold(func):\n",
    "    def wrapper():\n",
    "        return \"<b>\" + func() + \"</b>\"\n",
    "    return wrapper\n",
    "\n",
    "def italic(func):\n",
    "    def wrapper():\n",
    "        return \"<i>\" + func() + \"</i>\"\n",
    "    return wrapper\n",
    "\n",
    "@bold\n",
    "@italic\n",
    "def hello():\n",
    "    return \"Olá\"\n",
    "\n",
    "print(hello())"
   ]
  },
  {
   "cell_type": "markdown",
   "id": "c2c6b14e",
   "metadata": {},
   "source": [
    "**Qual é a saída?**\n",
    "\n",
    "A) `<b><i>Olá</i></b>`  \n",
    "B) `<i><b>Olá</b></i>`  \n",
    "C) `<b>Olá</b><i></i>`  \n",
    "D) Olá"
   ]
  }
 ],
 "metadata": {},
 "nbformat": 4,
 "nbformat_minor": 5
}
